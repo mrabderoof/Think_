{
  "nbformat": 4,
  "nbformat_minor": 0,
  "metadata": {
    "colab": {
      "name": "Untitled0.ipynb",
      "provenance": [],
      "collapsed_sections": [],
      "authorship_tag": "ABX9TyOqIwsTbfWbs3LlOAEGI5Sg",
      "include_colab_link": true
    },
    "kernelspec": {
      "name": "python3",
      "display_name": "Python 3"
    }
  },
  "cells": [
    {
      "cell_type": "markdown",
      "metadata": {
        "id": "view-in-github",
        "colab_type": "text"
      },
      "source": [
        "<a href=\"https://colab.research.google.com/github/mrabderoof/Think_/blob/master/Helloipynb\" target=\"_parent\"><img src=\"https://colab.research.google.com/assets/colab-badge.svg\" alt=\"Open In Colab\"/></a>"
      ]
    },
    {
      "cell_type": "markdown",
      "metadata": {
        "id": "0jpmZ6rJBL-j",
        "colab_type": "text"
      },
      "source": [
        "Hello World \n",
        "Basic print() \"String\"\n",
        "Single/Double Quotes work the Same"
      ]
    },
    {
      "cell_type": "code",
      "metadata": {
        "id": "lwmb0RtY5fuS",
        "colab_type": "code",
        "colab": {},
        "cellView": "code"
      },
      "source": [
        "print(\"Hello World!\")\n",
        "print('Hello World!')"
      ],
      "execution_count": null,
      "outputs": []
    },
    {
      "cell_type": "markdown",
      "metadata": {
        "id": "hcRTbRMoDBzA",
        "colab_type": "text"
      },
      "source": [
        "Hello world but with 'o' in Single/Double(\"\") Quotes,\n",
        "You can't use Only One type of Quotes, \n",
        "You'll need to mix it Up."
      ]
    },
    {
      "cell_type": "code",
      "metadata": {
        "id": "Ky2uxN3NCw0E",
        "colab_type": "code",
        "colab": {}
      },
      "source": [
        "print(\"Hell'o' World!\")\n",
        "print('Hell\"o\" World!')"
      ],
      "execution_count": null,
      "outputs": []
    },
    {
      "cell_type": "markdown",
      "metadata": {
        "id": "W_qBmsA7BcLd",
        "colab_type": "text"
      },
      "source": [
        "Hello World broken up with spaces( ) between Double-Quotes(\"\")/Single(Quotes)\n",
        "Hello + Space(\" \") + World + Exclamation(!)"
      ]
    },
    {
      "cell_type": "markdown",
      "metadata": {
        "id": "bQ0OMY0QDrqA",
        "colab_type": "text"
      },
      "source": [
        "Print Multiple \"Strings\" of Hello World with a Plus(+)"
      ]
    },
    {
      "cell_type": "code",
      "metadata": {
        "id": "54dBEXuLA8Hx",
        "colab_type": "code",
        "colab": {}
      },
      "source": [
        "print(\"Hello\" + \"World\")\n",
        "print(\"Hello\" + \" \" + \"World\" + \"!\")"
      ],
      "execution_count": null,
      "outputs": []
    },
    {
      "cell_type": "markdown",
      "metadata": {
        "id": "SchuQRnXERCX",
        "colab_type": "text"
      },
      "source": [
        "However you don't need the Plus(+), but can combine with a space(  ) unless you adding vari_ables(=) to the \"string\"."
      ]
    },
    {
      "cell_type": "code",
      "metadata": {
        "id": "X9m1v6bX5gdL",
        "colab_type": "code",
        "colab": {}
      },
      "source": [
        "print(\"Hello\" \" \" \"World\" \"!\")\n",
        "print('Hello' ' ' 'World' '!')"
      ],
      "execution_count": null,
      "outputs": []
    },
    {
      "cell_type": "markdown",
      "metadata": {
        "id": "g65U9ljTGUvM",
        "colab_type": "text"
      },
      "source": [
        "print() the \"strings\" stored(=) in the variable_Hello and variable_World"
      ]
    },
    {
      "cell_type": "code",
      "metadata": {
        "id": "ey-jnozp65mk",
        "colab_type": "code",
        "colab": {}
      },
      "source": [
        "variable_Hello = \"Hello \"\n",
        "variable_World = \"World!\"\n",
        "print(variable_Hello + \" \" + variable_World)"
      ],
      "execution_count": null,
      "outputs": []
    },
    {
      "cell_type": "markdown",
      "metadata": {
        "id": "0De30JEwH5Qe",
        "colab_type": "text"
      },
      "source": [
        "print() Hello World from User input()"
      ]
    },
    {
      "cell_type": "code",
      "metadata": {
        "colab_type": "code",
        "cellView": "code",
        "id": "Rtboaa74IvsY",
        "colab": {}
      },
      "source": [
        "print(\"Hello World!\"\n",
        "print'Hello World!')"
      ],
      "execution_count": null,
      "outputs": []
    },
    {
      "cell_type": "code",
      "metadata": {
        "id": "J09rSRLGIyaz",
        "colab_type": "code",
        "colab": {}
      },
      "source": [
        "print(\"Hell'o' World!\")\n",
        "print('Hell\"o\" World!')"
      ],
      "execution_count": null,
      "outputs": []
    },
    {
      "cell_type": "code",
      "metadata": {
        "id": "2ZdruMQ1J57Z",
        "colab_type": "code",
        "colab": {}
      },
      "source": [
        "variable_Hello = “Hello”\n",
        "variable_World = “World!”\n",
        "print(variable_hell + \"  varaible_world)"
      ],
      "execution_count": null,
      "outputs": []
    },
    {
      "cell_type": "code",
      "metadata": {
        "id": "mg8cSQN9J6yz",
        "colab_type": "code",
        "colab": {}
      },
      "source": [
        "variable_hello_world_input = input(\"Enter Hello World!: \")\n",
        "print(variable_hello_world_input)"
      ],
      "execution_count": null,
      "outputs": []
    },
    {
      "cell_type": "markdown",
      "metadata": {
        "id": "CroZ1sxJ_HBq",
        "colab_type": "text"
      },
      "source": [
        "#Debugging\n",
        "\n",
        "#Examples to Fix"
      ]
    },
    {
      "cell_type": "code",
      "metadata": {
        "id": "A4WDaltYSG2J",
        "colab_type": "code",
        "colab": {}
      },
      "source": [
        "print(“Hello World!”\n",
        "print(Hello + World!)\n",
        "print(“Hello” World!”)"
      ],
      "execution_count": null,
      "outputs": []
    },
    {
      "cell_type": "code",
      "metadata": {
        "id": "MdukKtWb_GIa",
        "colab_type": "code",
        "colab": {}
      },
      "source": [
        "varaible_Hello_World = “Hello World!”\n",
        "print(variable_Hello_World)"
      ],
      "execution_count": null,
      "outputs": []
    },
    {
      "cell_type": "code",
      "metadata": {
        "id": "Z2LOf_6p_-4J",
        "colab_type": "code",
        "colab": {}
      },
      "source": [
        "variable_Hello_World  “Hello World!”\n",
        "print variable_hello world"
      ],
      "execution_count": null,
      "outputs": []
    },
    {
      "cell_type": "code",
      "metadata": {
        "id": "KCr8qy0r_DDN",
        "colab_type": "code",
        "colab": {}
      },
      "source": [
        "variable_Hello = Hello\n",
        "variable_World  “World!”\n",
        "print(variable_hello \" \" variable_world)"
      ],
      "execution_count": null,
      "outputs": []
    },
    {
      "cell_type": "code",
      "metadata": {
        "id": "8CEGQGuc_AaR",
        "colab_type": "code",
        "colab": {}
      },
      "source": [
        "variable_hello_world_in_put = in_put(input = \"Enter Hello World!: \")\n",
        "variable_hello_world_in_put\n",
        "print(hello_world_in_put)"
      ],
      "execution_count": null,
      "outputs": []
    }
  ]
}